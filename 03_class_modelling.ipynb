{
 "cells": [
  {
   "cell_type": "markdown",
   "metadata": {},
   "source": [
    "# Part 3: Horse Race Prediction\n",
    "## Classification Modelling\n",
    "- In this section, we want to classify if a horse can win the race, and which three horses will be ranked in the top 3."
   ]
  },
  {
   "cell_type": "code",
   "execution_count": 1,
   "metadata": {},
   "outputs": [],
   "source": [
    "import numpy as np\n",
    "import pandas as pd\n",
    "import matplotlib.pyplot as plt\n",
    "import seaborn as sns\n",
    "\n",
    "from sklearn.linear_model import LogisticRegression\n",
    "from sklearn.model_selection import KFold\n",
    "from sklearn.model_selection import cross_val_score, GridSearchCV\n",
    "\n",
    "from sklearn.naive_bayes import GaussianNB\n",
    "from sklearn.ensemble import RandomForestClassifier\n",
    "from sklearn.svm import SVC\n",
    "\n",
    "from sklearn.metrics import f1_score, roc_curve, auc, confusion_matrix, average_precision_score\n",
    "from sklearn.metrics import precision_recall_curve\n",
    "from sklearn.metrics import plot_precision_recall_curve\n",
    "\n",
    "from imblearn.over_sampling import SMOTE\n",
    "from imblearn.pipeline import Pipeline\n",
    "\n",
    "import joblib\n",
    "import pickle\n",
    "import time\n",
    "\n",
    "import warnings\n",
    "warnings.filterwarnings(\"ignore\")\n",
    "\n",
    "%matplotlib inline"
   ]
  },
  {
   "cell_type": "code",
   "execution_count": 2,
   "metadata": {},
   "outputs": [],
   "source": [
    "# Read the train and test files\n",
    "df_train = pd.read_csv(#uploadedfilelocation, index_col=0)\n",
    "df_test = pd.read_csv(#uploadedfilelocation, index_col=0)\n",
    "df_unseen = pd.read_csv(#uploadedfilelocation, index_col=0)"
   ]
  },
  {
   "cell_type": "code",
   "execution_count": 3,
   "metadata": {},
   "outputs": [
    {
     "name": "stdout",
     "output_type": "stream",
     "text": [
      "(21139, 26)\n",
      "(5286, 26)\n",
      "(2939, 26)\n"
     ]
    }
   ],
   "source": [
    "# View the shape of the train and test files\n",
    "print(df_train.shape)\n",
    "print(df_test.shape)\n",
    "print(df_unseen.shape)"
   ]
  },
  {
   "cell_type": "code",
   "execution_count": 4,
   "metadata": {},
   "outputs": [
    {
     "data": {
      "text/html": [
       "<div>\n",
       "<style scoped>\n",
       "    .dataframe tbody tr th:only-of-type {\n",
       "        vertical-align: middle;\n",
       "    }\n",
       "\n",
       "    .dataframe tbody tr th {\n",
       "        vertical-align: top;\n",
       "    }\n",
       "\n",
       "    .dataframe thead th {\n",
       "        text-align: right;\n",
       "    }\n",
       "</style>\n",
       "<table border=\"1\" class=\"dataframe\">\n",
       "  <thead>\n",
       "    <tr style=\"text-align: right;\">\n",
       "      <th></th>\n",
       "      <th>horse_number</th>\n",
       "      <th>horse_name</th>\n",
       "      <th>horse_id</th>\n",
       "      <th>jockey</th>\n",
       "      <th>trainer</th>\n",
       "      <th>actual_weight</th>\n",
       "      <th>declared_horse_weight</th>\n",
       "      <th>draw</th>\n",
       "      <th>length_behind_winner</th>\n",
       "      <th>running_position_1</th>\n",
       "      <th>...</th>\n",
       "      <th>running_position_6</th>\n",
       "      <th>race_id</th>\n",
       "      <th>recent_6_runs</th>\n",
       "      <th>recent_ave_rank</th>\n",
       "      <th>race_distance</th>\n",
       "      <th>HorseWin</th>\n",
       "      <th>HorseRankTop3</th>\n",
       "      <th>HorseRankTop50Percent</th>\n",
       "      <th>jockey_ave_rank</th>\n",
       "      <th>trainer_ave_rank</th>\n",
       "    </tr>\n",
       "    <tr>\n",
       "      <th>finishing_position</th>\n",
       "      <th></th>\n",
       "      <th></th>\n",
       "      <th></th>\n",
       "      <th></th>\n",
       "      <th></th>\n",
       "      <th></th>\n",
       "      <th></th>\n",
       "      <th></th>\n",
       "      <th></th>\n",
       "      <th></th>\n",
       "      <th></th>\n",
       "      <th></th>\n",
       "      <th></th>\n",
       "      <th></th>\n",
       "      <th></th>\n",
       "      <th></th>\n",
       "      <th></th>\n",
       "      <th></th>\n",
       "      <th></th>\n",
       "      <th></th>\n",
       "      <th></th>\n",
       "    </tr>\n",
       "  </thead>\n",
       "  <tbody>\n",
       "    <tr>\n",
       "      <th>1</th>\n",
       "      <td>1.0</td>\n",
       "      <td>DOUBLE DRAGON</td>\n",
       "      <td>K019</td>\n",
       "      <td>B Prebble</td>\n",
       "      <td>D Cruz</td>\n",
       "      <td>133</td>\n",
       "      <td>1032</td>\n",
       "      <td>1</td>\n",
       "      <td>-</td>\n",
       "      <td>1.0</td>\n",
       "      <td>...</td>\n",
       "      <td>NaN</td>\n",
       "      <td>2014-001</td>\n",
       "      <td>1</td>\n",
       "      <td>1.0</td>\n",
       "      <td>1400</td>\n",
       "      <td>1</td>\n",
       "      <td>1</td>\n",
       "      <td>1</td>\n",
       "      <td>6.058185</td>\n",
       "      <td>7.369681</td>\n",
       "    </tr>\n",
       "    <tr>\n",
       "      <th>2</th>\n",
       "      <td>2.0</td>\n",
       "      <td>PLAIN BLUE BANNER</td>\n",
       "      <td>S070</td>\n",
       "      <td>D Whyte</td>\n",
       "      <td>D E Ferraris</td>\n",
       "      <td>133</td>\n",
       "      <td>1075</td>\n",
       "      <td>13</td>\n",
       "      <td>2</td>\n",
       "      <td>8.0</td>\n",
       "      <td>...</td>\n",
       "      <td>NaN</td>\n",
       "      <td>2014-001</td>\n",
       "      <td>2</td>\n",
       "      <td>2.0</td>\n",
       "      <td>1400</td>\n",
       "      <td>0</td>\n",
       "      <td>1</td>\n",
       "      <td>1</td>\n",
       "      <td>5.795734</td>\n",
       "      <td>6.721234</td>\n",
       "    </tr>\n",
       "  </tbody>\n",
       "</table>\n",
       "<p>2 rows × 26 columns</p>\n",
       "</div>"
      ],
      "text/plain": [
       "                    horse_number         horse_name horse_id     jockey  \\\n",
       "finishing_position                                                        \n",
       "1                            1.0      DOUBLE DRAGON     K019  B Prebble   \n",
       "2                            2.0  PLAIN BLUE BANNER     S070    D Whyte   \n",
       "\n",
       "                         trainer  actual_weight  declared_horse_weight  draw  \\\n",
       "finishing_position                                                             \n",
       "1                         D Cruz            133                   1032     1   \n",
       "2                   D E Ferraris            133                   1075    13   \n",
       "\n",
       "                   length_behind_winner  running_position_1  ...  \\\n",
       "finishing_position                                           ...   \n",
       "1                                     -                 1.0  ...   \n",
       "2                                     2                 8.0  ...   \n",
       "\n",
       "                    running_position_6   race_id  recent_6_runs  \\\n",
       "finishing_position                                                \n",
       "1                                  NaN  2014-001              1   \n",
       "2                                  NaN  2014-001              2   \n",
       "\n",
       "                   recent_ave_rank  race_distance  HorseWin  HorseRankTop3  \\\n",
       "finishing_position                                                           \n",
       "1                              1.0           1400         1              1   \n",
       "2                              2.0           1400         0              1   \n",
       "\n",
       "                   HorseRankTop50Percent jockey_ave_rank  trainer_ave_rank  \n",
       "finishing_position                                                          \n",
       "1                                      1        6.058185          7.369681  \n",
       "2                                      1        5.795734          6.721234  \n",
       "\n",
       "[2 rows x 26 columns]"
      ]
     },
     "execution_count": 4,
     "metadata": {},
     "output_type": "execute_result"
    }
   ],
   "source": [
    "# View the first 2 rows of the train file\n",
    "df_train.head(2)"
   ]
  },
  {
   "cell_type": "code",
   "execution_count": 5,
   "metadata": {},
   "outputs": [
    {
     "data": {
      "text/html": [
       "<div>\n",
       "<style scoped>\n",
       "    .dataframe tbody tr th:only-of-type {\n",
       "        vertical-align: middle;\n",
       "    }\n",
       "\n",
       "    .dataframe tbody tr th {\n",
       "        vertical-align: top;\n",
       "    }\n",
       "\n",
       "    .dataframe thead th {\n",
       "        text-align: right;\n",
       "    }\n",
       "</style>\n",
       "<table border=\"1\" class=\"dataframe\">\n",
       "  <thead>\n",
       "    <tr style=\"text-align: right;\">\n",
       "      <th></th>\n",
       "      <th>horse_number</th>\n",
       "      <th>horse_name</th>\n",
       "      <th>horse_id</th>\n",
       "      <th>jockey</th>\n",
       "      <th>trainer</th>\n",
       "      <th>actual_weight</th>\n",
       "      <th>declared_horse_weight</th>\n",
       "      <th>draw</th>\n",
       "      <th>length_behind_winner</th>\n",
       "      <th>running_position_1</th>\n",
       "      <th>...</th>\n",
       "      <th>running_position_6</th>\n",
       "      <th>race_id</th>\n",
       "      <th>recent_6_runs</th>\n",
       "      <th>recent_ave_rank</th>\n",
       "      <th>race_distance</th>\n",
       "      <th>HorseWin</th>\n",
       "      <th>HorseRankTop3</th>\n",
       "      <th>HorseRankTop50Percent</th>\n",
       "      <th>jockey_ave_rank</th>\n",
       "      <th>trainer_ave_rank</th>\n",
       "    </tr>\n",
       "    <tr>\n",
       "      <th>finishing_position</th>\n",
       "      <th></th>\n",
       "      <th></th>\n",
       "      <th></th>\n",
       "      <th></th>\n",
       "      <th></th>\n",
       "      <th></th>\n",
       "      <th></th>\n",
       "      <th></th>\n",
       "      <th></th>\n",
       "      <th></th>\n",
       "      <th></th>\n",
       "      <th></th>\n",
       "      <th></th>\n",
       "      <th></th>\n",
       "      <th></th>\n",
       "      <th></th>\n",
       "      <th></th>\n",
       "      <th></th>\n",
       "      <th></th>\n",
       "      <th></th>\n",
       "      <th></th>\n",
       "    </tr>\n",
       "  </thead>\n",
       "  <tbody>\n",
       "    <tr>\n",
       "      <th>1</th>\n",
       "      <td>11.0</td>\n",
       "      <td>SUPER FLUKE</td>\n",
       "      <td>T382</td>\n",
       "      <td>J Moreira</td>\n",
       "      <td>D Cruz</td>\n",
       "      <td>118</td>\n",
       "      <td>1118</td>\n",
       "      <td>6</td>\n",
       "      <td>-</td>\n",
       "      <td>4.0</td>\n",
       "      <td>...</td>\n",
       "      <td>NaN</td>\n",
       "      <td>2016-138</td>\n",
       "      <td>1/5/3/2/4/5</td>\n",
       "      <td>4.941176</td>\n",
       "      <td>1650</td>\n",
       "      <td>1</td>\n",
       "      <td>1</td>\n",
       "      <td>1</td>\n",
       "      <td>4.070707</td>\n",
       "      <td>8.052941</td>\n",
       "    </tr>\n",
       "    <tr>\n",
       "      <th>2</th>\n",
       "      <td>10.0</td>\n",
       "      <td>PEARL WARM WARM</td>\n",
       "      <td>T183</td>\n",
       "      <td>S Clipperton</td>\n",
       "      <td>P O'Sullivan</td>\n",
       "      <td>118</td>\n",
       "      <td>1099</td>\n",
       "      <td>12</td>\n",
       "      <td>SH</td>\n",
       "      <td>1.0</td>\n",
       "      <td>...</td>\n",
       "      <td>NaN</td>\n",
       "      <td>2016-138</td>\n",
       "      <td>2/3/8/7/1/6</td>\n",
       "      <td>5.266667</td>\n",
       "      <td>1650</td>\n",
       "      <td>0</td>\n",
       "      <td>1</td>\n",
       "      <td>1</td>\n",
       "      <td>6.714859</td>\n",
       "      <td>6.858209</td>\n",
       "    </tr>\n",
       "  </tbody>\n",
       "</table>\n",
       "<p>2 rows × 26 columns</p>\n",
       "</div>"
      ],
      "text/plain": [
       "                    horse_number       horse_name horse_id        jockey  \\\n",
       "finishing_position                                                         \n",
       "1                           11.0      SUPER FLUKE     T382     J Moreira   \n",
       "2                           10.0  PEARL WARM WARM     T183  S Clipperton   \n",
       "\n",
       "                         trainer  actual_weight  declared_horse_weight  draw  \\\n",
       "finishing_position                                                             \n",
       "1                         D Cruz            118                   1118     6   \n",
       "2                   P O'Sullivan            118                   1099    12   \n",
       "\n",
       "                   length_behind_winner  running_position_1  ...  \\\n",
       "finishing_position                                           ...   \n",
       "1                                     -                 4.0  ...   \n",
       "2                                    SH                 1.0  ...   \n",
       "\n",
       "                    running_position_6   race_id  recent_6_runs  \\\n",
       "finishing_position                                                \n",
       "1                                  NaN  2016-138    1/5/3/2/4/5   \n",
       "2                                  NaN  2016-138    2/3/8/7/1/6   \n",
       "\n",
       "                   recent_ave_rank  race_distance  HorseWin  HorseRankTop3  \\\n",
       "finishing_position                                                           \n",
       "1                         4.941176           1650         1              1   \n",
       "2                         5.266667           1650         0              1   \n",
       "\n",
       "                   HorseRankTop50Percent jockey_ave_rank  trainer_ave_rank  \n",
       "finishing_position                                                          \n",
       "1                                      1        4.070707          8.052941  \n",
       "2                                      1        6.714859          6.858209  \n",
       "\n",
       "[2 rows x 26 columns]"
      ]
     },
     "execution_count": 5,
     "metadata": {},
     "output_type": "execute_result"
    }
   ],
   "source": [
    "# View the first 2 rows of the test files\n",
    "df_test.head(2)"
   ]
  },
  {
   "cell_type": "code",
   "execution_count": 6,
   "metadata": {},
   "outputs": [
    {
     "data": {
      "text/html": [
       "<div>\n",
       "<style scoped>\n",
       "    .dataframe tbody tr th:only-of-type {\n",
       "        vertical-align: middle;\n",
       "    }\n",
       "\n",
       "    .dataframe tbody tr th {\n",
       "        vertical-align: top;\n",
       "    }\n",
       "\n",
       "    .dataframe thead th {\n",
       "        text-align: right;\n",
       "    }\n",
       "</style>\n",
       "<table border=\"1\" class=\"dataframe\">\n",
       "  <thead>\n",
       "    <tr style=\"text-align: right;\">\n",
       "      <th></th>\n",
       "      <th>horse_number</th>\n",
       "      <th>horse_name</th>\n",
       "      <th>horse_id</th>\n",
       "      <th>jockey</th>\n",
       "      <th>trainer</th>\n",
       "      <th>actual_weight</th>\n",
       "      <th>declared_horse_weight</th>\n",
       "      <th>draw</th>\n",
       "      <th>length_behind_winner</th>\n",
       "      <th>running_position_1</th>\n",
       "      <th>...</th>\n",
       "      <th>running_position_6</th>\n",
       "      <th>race_id</th>\n",
       "      <th>recent_6_runs</th>\n",
       "      <th>recent_ave_rank</th>\n",
       "      <th>race_distance</th>\n",
       "      <th>HorseWin</th>\n",
       "      <th>HorseRankTop3</th>\n",
       "      <th>HorseRankTop50Percent</th>\n",
       "      <th>jockey_ave_rank</th>\n",
       "      <th>trainer_ave_rank</th>\n",
       "    </tr>\n",
       "    <tr>\n",
       "      <th>finishing_position</th>\n",
       "      <th></th>\n",
       "      <th></th>\n",
       "      <th></th>\n",
       "      <th></th>\n",
       "      <th></th>\n",
       "      <th></th>\n",
       "      <th></th>\n",
       "      <th></th>\n",
       "      <th></th>\n",
       "      <th></th>\n",
       "      <th></th>\n",
       "      <th></th>\n",
       "      <th></th>\n",
       "      <th></th>\n",
       "      <th></th>\n",
       "      <th></th>\n",
       "      <th></th>\n",
       "      <th></th>\n",
       "      <th></th>\n",
       "      <th></th>\n",
       "      <th></th>\n",
       "    </tr>\n",
       "  </thead>\n",
       "  <tbody>\n",
       "    <tr>\n",
       "      <th>1</th>\n",
       "      <td>8.0</td>\n",
       "      <td>PRINCE HARMONY</td>\n",
       "      <td>V012</td>\n",
       "      <td>D Whyte</td>\n",
       "      <td>W Y So</td>\n",
       "      <td>119</td>\n",
       "      <td>1142</td>\n",
       "      <td>2</td>\n",
       "      <td>-</td>\n",
       "      <td>1.0</td>\n",
       "      <td>...</td>\n",
       "      <td>NaN</td>\n",
       "      <td>2016-564</td>\n",
       "      <td>1/13/9/6/10</td>\n",
       "      <td>7.800000</td>\n",
       "      <td>1200</td>\n",
       "      <td>1</td>\n",
       "      <td>1</td>\n",
       "      <td>1</td>\n",
       "      <td>5.795734</td>\n",
       "      <td>7.117705</td>\n",
       "    </tr>\n",
       "    <tr>\n",
       "      <th>2</th>\n",
       "      <td>2.0</td>\n",
       "      <td>GRACYDAD</td>\n",
       "      <td>V200</td>\n",
       "      <td>Z Purton</td>\n",
       "      <td>D J Hall</td>\n",
       "      <td>133</td>\n",
       "      <td>1092</td>\n",
       "      <td>7</td>\n",
       "      <td>SH</td>\n",
       "      <td>2.0</td>\n",
       "      <td>...</td>\n",
       "      <td>NaN</td>\n",
       "      <td>2016-564</td>\n",
       "      <td>2/1/6/3/3/3</td>\n",
       "      <td>6.352941</td>\n",
       "      <td>1200</td>\n",
       "      <td>0</td>\n",
       "      <td>1</td>\n",
       "      <td>1</td>\n",
       "      <td>5.343498</td>\n",
       "      <td>6.639836</td>\n",
       "    </tr>\n",
       "  </tbody>\n",
       "</table>\n",
       "<p>2 rows × 26 columns</p>\n",
       "</div>"
      ],
      "text/plain": [
       "                    horse_number      horse_name horse_id    jockey   trainer  \\\n",
       "finishing_position                                                              \n",
       "1                            8.0  PRINCE HARMONY     V012   D Whyte    W Y So   \n",
       "2                            2.0        GRACYDAD     V200  Z Purton  D J Hall   \n",
       "\n",
       "                    actual_weight  declared_horse_weight  draw  \\\n",
       "finishing_position                                               \n",
       "1                             119                   1142     2   \n",
       "2                             133                   1092     7   \n",
       "\n",
       "                   length_behind_winner  running_position_1  ...  \\\n",
       "finishing_position                                           ...   \n",
       "1                                     -                 1.0  ...   \n",
       "2                                    SH                 2.0  ...   \n",
       "\n",
       "                    running_position_6   race_id  recent_6_runs  \\\n",
       "finishing_position                                                \n",
       "1                                  NaN  2016-564    1/13/9/6/10   \n",
       "2                                  NaN  2016-564    2/1/6/3/3/3   \n",
       "\n",
       "                   recent_ave_rank  race_distance  HorseWin  HorseRankTop3  \\\n",
       "finishing_position                                                           \n",
       "1                         7.800000           1200         1              1   \n",
       "2                         6.352941           1200         0              1   \n",
       "\n",
       "                   HorseRankTop50Percent jockey_ave_rank  trainer_ave_rank  \n",
       "finishing_position                                                          \n",
       "1                                      1        5.795734          7.117705  \n",
       "2                                      1        5.343498          6.639836  \n",
       "\n",
       "[2 rows x 26 columns]"
      ]
     },
     "execution_count": 6,
     "metadata": {},
     "output_type": "execute_result"
    }
   ],
   "source": [
    "# View the first 2 rows of the unseen file\n",
    "df_unseen.head(2)"
   ]
  },
  {
   "cell_type": "code",
   "execution_count": 7,
   "metadata": {},
   "outputs": [],
   "source": [
    "# Keep the features we want to train our model on\n",
    "X_train = df_train[['actual_weight', 'declared_horse_weight',\n",
    "                    'draw', #'win_odds', \n",
    "                    'jockey_ave_rank',\n",
    "                    'trainer_ave_rank', 'recent_ave_rank', 'race_distance']]\n",
    "\n",
    "y_train = df_train[['HorseWin', 'HorseRankTop3', 'HorseRankTop50Percent']]\n",
    "\n",
    "# Keep the features we want to train our model on\n",
    "X_test = df_test[['actual_weight', 'declared_horse_weight',\n",
    "                   'draw', #'win_odds',\n",
    "                   'jockey_ave_rank',\n",
    "                    'trainer_ave_rank', 'recent_ave_rank', 'race_distance']]\n",
    "                    \n",
    "y_test = df_test[['HorseWin', 'HorseRankTop3', 'HorseRankTop50Percent']]\n",
    "\n",
    "# Keep the features we want for the unseen data\n",
    "X_unseen = df_unseen[['actual_weight', 'declared_horse_weight',\n",
    "                     'draw', #'win_odds',\n",
    "                        'jockey_ave_rank',\n",
    "                        'trainer_ave_rank', 'recent_ave_rank', 'race_distance']]\n",
    "\n"
   ]
  },
  {
   "cell_type": "code",
   "execution_count": 8,
   "metadata": {},
   "outputs": [
    {
     "name": "stdout",
     "output_type": "stream",
     "text": [
      "(21139, 7)\n",
      "(21139, 3)\n",
      "(5286, 7)\n",
      "(5286, 3)\n",
      "(2939, 26)\n"
     ]
    }
   ],
   "source": [
    "# View the shape of the train and test files\n",
    "print(X_train.shape)\n",
    "print(y_train.shape)\n",
    "print(X_test.shape)\n",
    "print(y_test.shape)\n",
    "print(df_unseen.shape)"
   ]
  },
  {
   "cell_type": "code",
   "execution_count": 9,
   "metadata": {},
   "outputs": [
    {
     "data": {
      "text/plain": [
       "HorseWin                 0.080089\n",
       "HorseRankTop3            0.239746\n",
       "HorseRankTop50Percent    0.499361\n",
       "dtype: float64"
      ]
     },
     "execution_count": 9,
     "metadata": {},
     "output_type": "execute_result"
    }
   ],
   "source": [
    "# Check the mean of the target variable\n",
    "y_train.mean()"
   ]
  },
  {
   "cell_type": "markdown",
   "metadata": {},
   "source": [
    "We can see that there is data imbalance for the HorseWin and HorseRankTop3 variables, so we need to account for these later when modelling."
   ]
  },
  {
   "cell_type": "code",
   "execution_count": 10,
   "metadata": {},
   "outputs": [],
   "source": [
    "# Specify kfold cross validation\n",
    "kfold = KFold(n_splits=5)"
   ]
  },
  {
   "cell_type": "markdown",
   "metadata": {},
   "source": [
    "### Define functions to run and evaluate models"
   ]
  },
  {
   "cell_type": "code",
   "execution_count": 11,
   "metadata": {},
   "outputs": [],
   "source": [
    "# Create an empty dataframe to store the results\n",
    "df_results = pd.DataFrame(columns=['Model', 'Prediction', 'CV-F1', 'F1 Score', 'AUC', 'Recall', 'Precision'])"
   ]
  },
  {
   "cell_type": "code",
   "execution_count": 12,
   "metadata": {},
   "outputs": [],
   "source": [
    "# Define a function to run the model\n",
    "def run_model(model, X_train, y_train, X_test, y_test, kfold):\n",
    "\n",
    "    # Create a dataframe to store the predictions for the UNSEEN data\n",
    "    df_pred = pd.DataFrame()\n",
    "    df_pred['RaceID'] = df_unseen['race_id']\n",
    "    df_pred['HorseID'] = df_unseen['horse_id']\n",
    "\n",
    "    # Store model name\n",
    "    model_name = str(model).split('(')[0]\n",
    "\n",
    "    for column in ['HorseWin', 'HorseRankTop3']:\n",
    "\n",
    "        # Print the column name\n",
    "        print(f\"Results for model {model_name} and target variable {column}:\")\n",
    "        \n",
    "        # Fit the model\n",
    "        model.fit(X_train, y_train[column].to_numpy())\n",
    "        \n",
    "        # Calculate the cross validation score\n",
    "        cv_score = cross_val_score(model, X_train, y_train[column].to_numpy(), cv=kfold, scoring='f1_weighted').mean()\n",
    "        cv_score = round(cv_score, 3)\n",
    "        \n",
    "        # Make predictions\n",
    "        y_pred = model.predict(X_test)\n",
    "        y_unseen_pred = model.predict(X_unseen)\n",
    "\n",
    "        # Store the predictions in the dataframe\n",
    "        df_pred[column] = y_unseen_pred\n",
    "        \n",
    "        # Calculate the f1 score\n",
    "        f1 = f1_score(y_test[column].to_numpy(), y_pred, average='weighted')\n",
    "        f1 = round(f1, 3)\n",
    "        \n",
    "        # Calculate PR AUC\n",
    "        pr_auc = average_precision_score(y_test[column].to_numpy(), y_pred, average='weighted')\n",
    "        pr_auc = round(pr_auc, 3)\n",
    "\n",
    "        # Calculate Recall\n",
    "        tn, fp, fn, tp = confusion_matrix(y_test[column].to_numpy(), y_pred).ravel()\n",
    "        recall = tp / (tp + fn)\n",
    "        recall = round(recall, 3)\n",
    "\n",
    "        # Calculate Precision\n",
    "        precision = tp / (tp + fp)\n",
    "        precision = round(precision, 3)\n",
    "\n",
    "        # Append the results to the dataframe\n",
    "        df_results.loc[len(df_results)] = [model_name, column, cv_score, f1, pr_auc, recall, precision]\n",
    "\n",
    "        # Print the results\n",
    "        print('Cross Validation Score (F1-weighted): ', cv_score)\n",
    "        print('F1 Score: ', f1)\n",
    "        print('PR AUC (Avg Precision): ', pr_auc)\n",
    "        print('Recall: ', recall)\n",
    "        print('Precision: ', precision)\n",
    "\n",
    "        # Plot confusion matrix\n",
    "        plot_confusion_matrix(y_test, y_pred, column)\n",
    "\n",
    "        # Plot precision recall curve\n",
    "        plot_pr_auc(X_test, y_test, model, column)\n",
    "\n",
    "    return df_pred"
   ]
  },
  {
   "cell_type": "code",
   "execution_count": 13,
   "metadata": {},
   "outputs": [],
   "source": [
    "# Define plot confusion matrix function\n",
    "def plot_confusion_matrix(y_test, y_pred, column):\n",
    "    # Calculate the confusion matrix\n",
    "    cm = confusion_matrix(y_test[column].to_numpy(), y_pred)\n",
    "    cm = pd.DataFrame(cm, columns=['Predicted 0', 'Predicted 1'], index=['Actual 0', 'Actual 1'])\n",
    "\n",
    "    # Plot the confusion matrix\n",
    "    plt.figure(figsize=(8, 6))\n",
    "    sns.heatmap(cm, annot=True, fmt='d', cmap='Blues')\n",
    "    plt.title('Confusion Matrix for ' + column)\n",
    "    plt.show()"
   ]
  },
  {
   "cell_type": "code",
   "execution_count": 14,
   "metadata": {},
   "outputs": [],
   "source": [
    "# Define plot PR AUC function\n",
    "def plot_pr_auc(X_test, y_test, model, column):\n",
    "    # Get the probabilities of the predictions\n",
    "    win_prob = model.predict_proba(X_test)[:, 1]\n",
    "\n",
    "    # Get the precision and recall\n",
    "    precision, recall, thresholds = precision_recall_curve(y_test[column], win_prob)\n",
    "\n",
    "    # Calculate proportion of positive class\n",
    "    proportion_pos_class = y_test[column].mean()\n",
    "    \n",
    "    # Print the PR AUC score\n",
    "    pr_auc = round(auc(recall, precision),3)\n",
    "    print(f'PR AUC score for {column}:', pr_auc)\n",
    "\n",
    "    # Plot the PR AUC curve\n",
    "    plt.figure(figsize = (8, 6))\n",
    "    plt.plot([0, 1], [proportion_pos_class, proportion_pos_class], linestyle = '--')\n",
    "    plt.plot(recall, precision, marker = '.')\n",
    "    plt.title(f'PR AUC Curve for {column}')\n",
    "    plt.xlabel('Recall')\n",
    "    plt.ylabel('Precision')\n",
    "    plt.show()    "
   ]
  },
  {
   "cell_type": "markdown",
   "metadata": {},
   "source": [
    "### Model 1: Logistic Regression"
   ]
  },
  {
   "cell_type": "code",
   "execution_count": 15,
   "metadata": {},
   "outputs": [],
   "source": [
    "# Initialize the model\n",
    "lr = LogisticRegression()"
   ]
  },
  {
   "cell_type": "code",
   "execution_count": 16,
   "metadata": {},
   "outputs": [
    {
     "name": "stdout",
     "output_type": "stream",
     "text": [
      "Fitting 5 folds for each of 12 candidates, totalling 60 fits\n",
      "{'C': 1, 'penalty': 'l2'}\n",
      "0.8904642541320854\n"
     ]
    }
   ],
   "source": [
    "# Do hyperparameter tuning\n",
    "param_grid = {'C': [0.0001, 0.001, 0.01, 0.1, 1, 10],\n",
    "                'penalty': ['l1', 'l2']}\n",
    "\n",
    "grid = GridSearchCV(lr, param_grid, cv=kfold, scoring='f1_weighted', verbose=1, n_jobs=-1)\n",
    "\n",
    "# find the best parameters\n",
    "grid.fit(X_train, y_train['HorseWin'].to_numpy())\n",
    "\n",
    "# Print the best parameters\n",
    "print(grid.best_params_)\n",
    "print(grid.best_score_)\n",
    "\n",
    "# Initialize the model using best parameters\n",
    "lr = grid.best_estimator_"
   ]
  },
  {
   "cell_type": "code",
   "execution_count": 17,
   "metadata": {},
   "outputs": [
    {
     "name": "stdout",
     "output_type": "stream",
     "text": [
      "Results for model LogisticRegression and target variable HorseWin:\n",
      "Cross Validation Score (F1-weighted):  0.891\n",
      "F1 Score:  0.891\n",
      "PR AUC (Avg Precision):  0.113\n",
      "Recall:  0.057\n",
      "Precision:  0.667\n"
     ]
    },
    {
     "data": {
      "image/png": "[encoded data removed]",
      "text/plain": [
       "<Figure size 576x432 with 2 Axes>"
      ]
     },
     "metadata": {
      "needs_background": "light"
     },
     "output_type": "display_data"
    },
    {
     "name": "stdout",
     "output_type": "stream",
     "text": [
      "PR AUC score for HorseWin: 0.265\n"
     ]
    },
    {
     "data": {
      "image/png": "[encoded data removed]",
      "text/plain": [
       "<Figure size 576x432 with 1 Axes>"
      ]
     },
     "metadata": {
      "needs_background": "light"
     },
     "output_type": "display_data"
    },
    {
     "name": "stdout",
     "output_type": "stream",
     "text": [
      "Results for model LogisticRegression and target variable HorseRankTop3:\n",
      "Cross Validation Score (F1-weighted):  0.773\n",
      "F1 Score:  0.749\n",
      "PR AUC (Avg Precision):  0.337\n",
      "Recall:  0.263\n",
      "Precision:  0.611\n"
     ]
    },
    {
     "data": {
      "image/png": "[encoded data removed]",
      "text/plain": [
       "<Figure size 576x432 with 2 Axes>"
      ]
     },
     "metadata": {
      "needs_background": "light"
     },
     "output_type": "display_data"
    },
    {
     "name": "stdout",
     "output_type": "stream",
     "text": [
      "PR AUC score for HorseRankTop3: 0.511\n"
     ]
    },
    {
     "data": {
      "image/png": "[encoded data removed]",
      "text/plain": [
       "<Figure size 576x432 with 1 Axes>"
      ]
     },
     "metadata": {
      "needs_background": "light"
     },
     "output_type": "display_data"
    }
   ],
   "source": [
    "# Run Logistics Regression model\n",
    "lr_pred = run_model(lr, X_train, y_train, X_test, y_test, kfold)"
   ]
  },
  {
   "cell_type": "code",
   "execution_count": 18,
   "metadata": {},
   "outputs": [
    {
     "data": {
      "text/html": [
       "<div>\n",
       "<style scoped>\n",
       "    .dataframe tbody tr th:only-of-type {\n",
       "        vertical-align: middle;\n",
       "    }\n",
       "\n",
       "    .dataframe tbody tr th {\n",
       "        vertical-align: top;\n",
       "    }\n",
       "\n",
       "    .dataframe thead th {\n",
       "        text-align: right;\n",
       "    }\n",
       "</style>\n",
       "<table border=\"1\" class=\"dataframe\">\n",
       "  <thead>\n",
       "    <tr style=\"text-align: right;\">\n",
       "      <th></th>\n",
       "      <th>Model</th>\n",
       "      <th>Prediction</th>\n",
       "      <th>CV-F1</th>\n",
       "      <th>F1 Score</th>\n",
       "      <th>AUC</th>\n",
       "      <th>Recall</th>\n",
       "      <th>Precision</th>\n",
       "    </tr>\n",
       "  </thead>\n",
       "  <tbody>\n",
       "    <tr>\n",
       "      <th>0</th>\n",
       "      <td>LogisticRegression</td>\n",
       "      <td>HorseWin</td>\n",
       "      <td>0.891</td>\n",
       "      <td>0.891</td>\n",
       "      <td>0.113</td>\n",
       "      <td>0.057</td>\n",
       "      <td>0.667</td>\n",
       "    </tr>\n",
       "    <tr>\n",
       "      <th>1</th>\n",
       "      <td>LogisticRegression</td>\n",
       "      <td>HorseRankTop3</td>\n",
       "      <td>0.773</td>\n",
       "      <td>0.749</td>\n",
       "      <td>0.337</td>\n",
       "      <td>0.263</td>\n",
       "      <td>0.611</td>\n",
       "    </tr>\n",
       "  </tbody>\n",
       "</table>\n",
       "</div>"
      ],
      "text/plain": [
       "                Model     Prediction  CV-F1  F1 Score    AUC  Recall  \\\n",
       "0  LogisticRegression       HorseWin  0.891     0.891  0.113   0.057   \n",
       "1  LogisticRegression  HorseRankTop3  0.773     0.749  0.337   0.263   \n",
       "\n",
       "   Precision  \n",
       "0      0.667  \n",
       "1      0.611  "
      ]
     },
     "execution_count": 18,
     "metadata": {},
     "output_type": "execute_result"
    }
   ],
   "source": [
    "# Print the results\n",
    "df_results"
   ]
  },
  {
   "cell_type": "markdown",
   "metadata": {},
   "source": [
    "### Model 2: Naive Bayes"
   ]
  },
  {
   "cell_type": "code",
   "execution_count": 19,
   "metadata": {},
   "outputs": [],
   "source": [
    "# Initialize the model\n",
    "gnb = GaussianNB()"
   ]
  },
  {
   "cell_type": "code",
   "execution_count": 20,
   "metadata": {},
   "outputs": [
    {
     "name": "stdout",
     "output_type": "stream",
     "text": [
      "Fitting 5 folds for each of 13 candidates, totalling 65 fits\n",
      "{'var_smoothing': 1e-06}\n",
      "0.8915570982419379\n"
     ]
    }
   ],
   "source": [
    "# Do hyperparameter tuning\n",
    "param_grid = {'var_smoothing': [1e-10, 1e-9, 1e-8, 1e-7, 1e-6, 1e-5, 1e-4, 1e-3, 1e-2, 1e-1, 1, 10, 100]}\n",
    "\n",
    "grid = GridSearchCV(gnb, param_grid, cv=kfold, scoring='f1_weighted', verbose=1, n_jobs=-1)\n",
    "\n",
    "# find the best parameters\n",
    "grid.fit(X_train, y_train['HorseWin'].to_numpy())\n",
    "\n",
    "# Print the best parameters\n",
    "print(grid.best_params_)\n",
    "print(grid.best_score_)\n",
    "\n",
    "# Initialize the model using best parameters\n",
    "gnb = grid.best_estimator_"
   ]
  },
  {
   "cell_type": "code",
   "execution_count": 21,
   "metadata": {},
   "outputs": [
    {
     "name": "stdout",
     "output_type": "stream",
     "text": [
      "Results for model GaussianNB and target variable HorseWin:\n",
      "Cross Validation Score (F1-weighted):  0.892\n",
      "F1 Score:  0.889\n",
      "PR AUC (Avg Precision):  0.121\n",
      "Recall:  0.184\n",
      "Precision:  0.304\n"
     ]
    },
    {
     "data": {
      "image/png": "[encoded data removed]",
      "text/plain": [
       "<Figure size 576x432 with 2 Axes>"
      ]
     },
     "metadata": {
      "needs_background": "light"
     },
     "output_type": "display_data"
    },
    {
     "name": "stdout",
     "output_type": "stream",
     "text": [
      "PR AUC score for HorseWin: 0.228\n"
     ]
    },
    {
     "data": {
      "image/png": "[encoded data removed]",
      "text/plain": [
       "<Figure size 576x432 with 1 Axes>"
      ]
     },
     "metadata": {
      "needs_background": "light"
     },
     "output_type": "display_data"
    },
    {
     "name": "stdout",
     "output_type": "stream",
     "text": [
      "Results for model GaussianNB and target variable HorseRankTop3:\n",
      "Cross Validation Score (F1-weighted):  0.77\n",
      "F1 Score:  0.755\n",
      "PR AUC (Avg Precision):  0.348\n",
      "Recall:  0.39\n",
      "Precision:  0.518\n"
     ]
    },
    {
     "data": {
      "image/png": "[encoded data removed]",
      "text/plain": [
       "<Figure size 576x432 with 2 Axes>"
      ]
     },
     "metadata": {
      "needs_background": "light"
     },
     "output_type": "display_data"
    },
    {
     "name": "stdout",
     "output_type": "stream",
     "text": [
      "PR AUC score for HorseRankTop3: 0.486\n"
     ]
    },
    {
     "data": {
      "image/png": "[encoded data removed]",
      "text/plain": [
       "<Figure size 576x432 with 1 Axes>"
      ]
     },
     "metadata": {
      "needs_background": "light"
     },
     "output_type": "display_data"
    }
   ],
   "source": [
    "# Run Naive Bayes model\n",
    "gnb_pred = run_model(gnb, X_train, y_train, X_test, y_test, kfold)"
   ]
  },
  {
   "cell_type": "code",
   "execution_count": 22,
   "metadata": {},
   "outputs": [
    {
     "data": {
      "text/html": [
       "<div>\n",
       "<style scoped>\n",
       "    .dataframe tbody tr th:only-of-type {\n",
       "        vertical-align: middle;\n",
       "    }\n",
       "\n",
       "    .dataframe tbody tr th {\n",
       "        vertical-align: top;\n",
       "    }\n",
       "\n",
       "    .dataframe thead th {\n",
       "        text-align: right;\n",
       "    }\n",
       "</style>\n",
       "<table border=\"1\" class=\"dataframe\">\n",
       "  <thead>\n",
       "    <tr style=\"text-align: right;\">\n",
       "      <th></th>\n",
       "      <th>Model</th>\n",
       "      <th>Prediction</th>\n",
       "      <th>CV-F1</th>\n",
       "      <th>F1 Score</th>\n",
       "      <th>AUC</th>\n",
       "      <th>Recall</th>\n",
       "      <th>Precision</th>\n",
       "    </tr>\n",
       "  </thead>\n",
       "  <tbody>\n",
       "    <tr>\n",
       "      <th>0</th>\n",
       "      <td>LogisticRegression</td>\n",
       "      <td>HorseWin</td>\n",
       "      <td>0.891</td>\n",
       "      <td>0.891</td>\n",
       "      <td>0.113</td>\n",
       "      <td>0.057</td>\n",
       "      <td>0.667</td>\n",
       "    </tr>\n",
       "    <tr>\n",
       "      <th>1</th>\n",
       "      <td>LogisticRegression</td>\n",
       "      <td>HorseRankTop3</td>\n",
       "      <td>0.773</td>\n",
       "      <td>0.749</td>\n",
       "      <td>0.337</td>\n",
       "      <td>0.263</td>\n",
       "      <td>0.611</td>\n",
       "    </tr>\n",
       "    <tr>\n",
       "      <th>2</th>\n",
       "      <td>GaussianNB</td>\n",
       "      <td>HorseWin</td>\n",
       "      <td>0.892</td>\n",
       "      <td>0.889</td>\n",
       "      <td>0.121</td>\n",
       "      <td>0.184</td>\n",
       "      <td>0.304</td>\n",
       "    </tr>\n",
       "    <tr>\n",
       "      <th>3</th>\n",
       "      <td>GaussianNB</td>\n",
       "      <td>HorseRankTop3</td>\n",
       "      <td>0.770</td>\n",
       "      <td>0.755</td>\n",
       "      <td>0.348</td>\n",
       "      <td>0.390</td>\n",
       "      <td>0.518</td>\n",
       "    </tr>\n",
       "  </tbody>\n",
       "</table>\n",
       "</div>"
      ],
      "text/plain": [
       "                Model     Prediction  CV-F1  F1 Score    AUC  Recall  \\\n",
       "0  LogisticRegression       HorseWin  0.891     0.891  0.113   0.057   \n",
       "1  LogisticRegression  HorseRankTop3  0.773     0.749  0.337   0.263   \n",
       "2          GaussianNB       HorseWin  0.892     0.889  0.121   0.184   \n",
       "3          GaussianNB  HorseRankTop3  0.770     0.755  0.348   0.390   \n",
       "\n",
       "   Precision  \n",
       "0      0.667  \n",
       "1      0.611  \n",
       "2      0.304  \n",
       "3      0.518  "
      ]
     },
     "execution_count": 22,
     "metadata": {},
     "output_type": "execute_result"
    }
   ],
   "source": [
    "# Print the results\n",
    "df_results"
   ]
  },
  {
   "cell_type": "markdown",
   "metadata": {},
   "source": [
    "### Model 3: Random Forest Classifier"
   ]
  },
  {
   "cell_type": "code",
   "execution_count": 23,
   "metadata": {},
   "outputs": [],
   "source": [
    "# Initialize the model\n",
    "rfc = RandomForestClassifier(n_estimators = 100, random_state = 42)"
   ]
  },
  {
   "cell_type": "code",
   "execution_count": 24,
   "metadata": {},
   "outputs": [
    {
     "name": "stdout",
     "output_type": "stream",
     "text": [
      "Fitting 5 folds for each of 16 candidates, totalling 80 fits\n",
      "{'max_depth': 40, 'max_features': 5, 'min_samples_leaf': 2, 'min_samples_split': 2}\n",
      "0.8989818799983766\n"
     ]
    }
   ],
   "source": [
    "# Do hyperparameter tuning\n",
    "param_grid = {'max_depth': [20, 40],\n",
    "                'max_features': [5, 10],\n",
    "                'min_samples_leaf': [1, 2],\n",
    "                'min_samples_split': [1, 2]}\n",
    "grid = GridSearchCV(rfc, param_grid, cv=kfold, scoring='f1_weighted', verbose=1, n_jobs=-1)\n",
    "\n",
    "# find the best parameters\n",
    "grid.fit(X_train, y_train['HorseWin'].to_numpy())\n",
    "\n",
    "# Print the best parameters\n",
    "print(grid.best_params_)\n",
    "print(grid.best_score_)\n",
    "\n",
    "# Initialize the model using best parameters\n",
    "rfc = grid.best_estimator_"
   ]
  },
  {
   "cell_type": "code",
   "execution_count": 25,
   "metadata": {},
   "outputs": [
    {
     "name": "stdout",
     "output_type": "stream",
     "text": [
      "Results for model RandomForestClassifier and target variable HorseWin:\n",
      "Cross Validation Score (F1-weighted):  0.899\n",
      "F1 Score:  0.895\n",
      "PR AUC (Avg Precision):  0.131\n",
      "Recall:  0.087\n",
      "Precision:  0.661\n"
     ]
    },
    {
     "data": {
      "image/png": "[encoded data removed]",
      "text/plain": [
       "<Figure size 576x432 with 2 Axes>"
      ]
     },
     "metadata": {
      "needs_background": "light"
     },
     "output_type": "display_data"
    },
    {
     "name": "stdout",
     "output_type": "stream",
     "text": [
      "PR AUC score for HorseWin: 0.275\n"
     ]
    },
    {
     "data": {
      "image/png": "[encoded data removed]",
      "text/plain": [
       "<Figure size 576x432 with 1 Axes>"
      ]
     },
     "metadata": {
      "needs_background": "light"
     },
     "output_type": "display_data"
    },
    {
     "name": "stdout",
     "output_type": "stream",
     "text": [
      "Results for model RandomForestClassifier and target variable HorseRankTop3:\n",
      "Cross Validation Score (F1-weighted):  0.769\n",
      "F1 Score:  0.75\n",
      "PR AUC (Avg Precision):  0.337\n",
      "Recall:  0.267\n",
      "Precision:  0.605\n"
     ]
    },
    {
     "data": {
      "image/png": "[encoded data removed]",
      "text/plain": [
       "<Figure size 576x432 with 2 Axes>"
      ]
     },
     "metadata": {
      "needs_background": "light"
     },
     "output_type": "display_data"
    },
    {
     "name": "stdout",
     "output_type": "stream",
     "text": [
      "PR AUC score for HorseRankTop3: 0.508\n"
     ]
    },
    {
     "data": {
      "image/png": "[encoded data removed]",
      "text/plain": [
       "<Figure size 576x432 with 1 Axes>"
      ]
     },
     "metadata": {
      "needs_background": "light"
     },
     "output_type": "display_data"
    }
   ],
   "source": [
    "# Run Random Forest model\n",
    "rfc_pred = run_model(rfc, X_train, y_train, X_test, y_test, kfold)"
   ]
  },
  {
   "cell_type": "code",
   "execution_count": 26,
   "metadata": {},
   "outputs": [
    {
     "data": {
      "text/html": [
       "<div>\n",
       "<style scoped>\n",
       "    .dataframe tbody tr th:only-of-type {\n",
       "        vertical-align: middle;\n",
       "    }\n",
       "\n",
       "    .dataframe tbody tr th {\n",
       "        vertical-align: top;\n",
       "    }\n",
       "\n",
       "    .dataframe thead th {\n",
       "        text-align: right;\n",
       "    }\n",
       "</style>\n",
       "<table border=\"1\" class=\"dataframe\">\n",
       "  <thead>\n",
       "    <tr style=\"text-align: right;\">\n",
       "      <th></th>\n",
       "      <th>Model</th>\n",
       "      <th>Prediction</th>\n",
       "      <th>CV-F1</th>\n",
       "      <th>F1 Score</th>\n",
       "      <th>AUC</th>\n",
       "      <th>Recall</th>\n",
       "      <th>Precision</th>\n",
       "    </tr>\n",
       "  </thead>\n",
       "  <tbody>\n",
       "    <tr>\n",
       "      <th>0</th>\n",
       "      <td>LogisticRegression</td>\n",
       "      <td>HorseWin</td>\n",
       "      <td>0.891</td>\n",
       "      <td>0.891</td>\n",
       "      <td>0.113</td>\n",
       "      <td>0.057</td>\n",
       "      <td>0.667</td>\n",
       "    </tr>\n",
       "    <tr>\n",
       "      <th>1</th>\n",
       "      <td>LogisticRegression</td>\n",
       "      <td>HorseRankTop3</td>\n",
       "      <td>0.773</td>\n",
       "      <td>0.749</td>\n",
       "      <td>0.337</td>\n",
       "      <td>0.263</td>\n",
       "      <td>0.611</td>\n",
       "    </tr>\n",
       "    <tr>\n",
       "      <th>2</th>\n",
       "      <td>GaussianNB</td>\n",
       "      <td>HorseWin</td>\n",
       "      <td>0.892</td>\n",
       "      <td>0.889</td>\n",
       "      <td>0.121</td>\n",
       "      <td>0.184</td>\n",
       "      <td>0.304</td>\n",
       "    </tr>\n",
       "    <tr>\n",
       "      <th>3</th>\n",
       "      <td>GaussianNB</td>\n",
       "      <td>HorseRankTop3</td>\n",
       "      <td>0.770</td>\n",
       "      <td>0.755</td>\n",
       "      <td>0.348</td>\n",
       "      <td>0.390</td>\n",
       "      <td>0.518</td>\n",
       "    </tr>\n",
       "    <tr>\n",
       "      <th>4</th>\n",
       "      <td>RandomForestClassifier</td>\n",
       "      <td>HorseWin</td>\n",
       "      <td>0.899</td>\n",
       "      <td>0.895</td>\n",
       "      <td>0.131</td>\n",
       "      <td>0.087</td>\n",
       "      <td>0.661</td>\n",
       "    </tr>\n",
       "    <tr>\n",
       "      <th>5</th>\n",
       "      <td>RandomForestClassifier</td>\n",
       "      <td>HorseRankTop3</td>\n",
       "      <td>0.769</td>\n",
       "      <td>0.750</td>\n",
       "      <td>0.337</td>\n",
       "      <td>0.267</td>\n",
       "      <td>0.605</td>\n",
       "    </tr>\n",
       "  </tbody>\n",
       "</table>\n",
       "</div>"
      ],
      "text/plain": [
       "                    Model     Prediction  CV-F1  F1 Score    AUC  Recall  \\\n",
       "0      LogisticRegression       HorseWin  0.891     0.891  0.113   0.057   \n",
       "1      LogisticRegression  HorseRankTop3  0.773     0.749  0.337   0.263   \n",
       "2              GaussianNB       HorseWin  0.892     0.889  0.121   0.184   \n",
       "3              GaussianNB  HorseRankTop3  0.770     0.755  0.348   0.390   \n",
       "4  RandomForestClassifier       HorseWin  0.899     0.895  0.131   0.087   \n",
       "5  RandomForestClassifier  HorseRankTop3  0.769     0.750  0.337   0.267   \n",
       "\n",
       "   Precision  \n",
       "0      0.667  \n",
       "1      0.611  \n",
       "2      0.304  \n",
       "3      0.518  \n",
       "4      0.661  \n",
       "5      0.605  "
      ]
     },
     "execution_count": 26,
     "metadata": {},
     "output_type": "execute_result"
    }
   ],
   "source": [
    "# Print the results\n",
    "df_results"
   ]
  },
  {
   "cell_type": "markdown",
   "metadata": {},
   "source": [
    "### Model 4: SMOTE + Random Forest Classifier"
   ]
  },
  {
   "cell_type": "code",
   "execution_count": 27,
   "metadata": {},
   "outputs": [],
   "source": [
    "# Smote the training data\n",
    "sm = SMOTE(random_state = 42)\n",
    "rfc = RandomForestClassifier(max_depth=10, random_state = 42)\n",
    "\n",
    "# Steps for the pipeline\n",
    "steps = [('smote', sm), ('rfc', rfc)]\n",
    "\n",
    "# Create the pipeline\n",
    "smote_rfc = Pipeline(steps = steps)"
   ]
  },
  {
   "cell_type": "code",
   "execution_count": 28,
   "metadata": {},
   "outputs": [
    {
     "name": "stdout",
     "output_type": "stream",
     "text": [
      "Results for model Pipeline and target variable HorseWin:\n",
      "Cross Validation Score (F1-weighted):  0.834\n",
      "F1 Score:  0.723\n",
      "PR AUC (Avg Precision):  0.11\n",
      "Recall:  0.606\n",
      "Precision:  0.129\n"
     ]
    },
    {
     "data": {
      "image/png": "[encoded data removed]",
      "text/plain": [
       "<Figure size 576x432 with 2 Axes>"
      ]
     },
     "metadata": {
      "needs_background": "light"
     },
     "output_type": "display_data"
    },
    {
     "name": "stdout",
     "output_type": "stream",
     "text": [
      "PR AUC score for HorseWin: 0.17\n"
     ]
    },
    {
     "data": {
      "image/png": "[encoded data removed]",
      "text/plain": [
       "<Figure size 576x432 with 1 Axes>"
      ]
     },
     "metadata": {
      "needs_background": "light"
     },
     "output_type": "display_data"
    },
    {
     "name": "stdout",
     "output_type": "stream",
     "text": [
      "Results for model Pipeline and target variable HorseRankTop3:\n",
      "Cross Validation Score (F1-weighted):  0.743\n",
      "F1 Score:  0.65\n",
      "PR AUC (Avg Precision):  0.331\n",
      "Recall:  0.753\n",
      "Precision:  0.361\n"
     ]
    },
    {
     "data": {
      "image/png": "[encoded data removed]",
      "text/plain": [
       "<Figure size 576x432 with 2 Axes>"
      ]
     },
     "metadata": {
      "needs_background": "light"
     },
     "output_type": "display_data"
    },
    {
     "name": "stdout",
     "output_type": "stream",
     "text": [
      "PR AUC score for HorseRankTop3: 0.465\n"
     ]
    },
    {
     "data": {
      "image/png": "[encoded data removed]",
      "text/plain": [
       "<Figure size 576x432 with 1 Axes>"
      ]
     },
     "metadata": {
      "needs_background": "light"
     },
     "output_type": "display_data"
    }
   ],
   "source": [
    "# Run the model\n",
    "smote_rfc_pred = run_model(smote_rfc, X_train, y_train, X_test, y_test, kfold)"
   ]
  },
  {
   "cell_type": "markdown",
   "metadata": {},
   "source": [
    "### View the final results of our 4 classification models"
   ]
  },
  {
   "cell_type": "code",
   "execution_count": 29,
   "metadata": {},
   "outputs": [
    {
     "data": {
      "text/html": [
       "<div>\n",
       "<style scoped>\n",
       "    .dataframe tbody tr th:only-of-type {\n",
       "        vertical-align: middle;\n",
       "    }\n",
       "\n",
       "    .dataframe tbody tr th {\n",
       "        vertical-align: top;\n",
       "    }\n",
       "\n",
       "    .dataframe thead th {\n",
       "        text-align: right;\n",
       "    }\n",
       "</style>\n",
       "<table border=\"1\" class=\"dataframe\">\n",
       "  <thead>\n",
       "    <tr style=\"text-align: right;\">\n",
       "      <th></th>\n",
       "      <th>Model</th>\n",
       "      <th>Prediction</th>\n",
       "      <th>CV-F1</th>\n",
       "      <th>F1 Score</th>\n",
       "      <th>AUC</th>\n",
       "      <th>Recall</th>\n",
       "      <th>Precision</th>\n",
       "    </tr>\n",
       "  </thead>\n",
       "  <tbody>\n",
       "    <tr>\n",
       "      <th>0</th>\n",
       "      <td>LogisticRegression</td>\n",
       "      <td>HorseWin</td>\n",
       "      <td>0.891</td>\n",
       "      <td>0.891</td>\n",
       "      <td>0.113</td>\n",
       "      <td>0.057</td>\n",
       "      <td>0.667</td>\n",
       "    </tr>\n",
       "    <tr>\n",
       "      <th>2</th>\n",
       "      <td>GaussianNB</td>\n",
       "      <td>HorseWin</td>\n",
       "      <td>0.892</td>\n",
       "      <td>0.889</td>\n",
       "      <td>0.121</td>\n",
       "      <td>0.184</td>\n",
       "      <td>0.304</td>\n",
       "    </tr>\n",
       "    <tr>\n",
       "      <th>4</th>\n",
       "      <td>RandomForestClassifier</td>\n",
       "      <td>HorseWin</td>\n",
       "      <td>0.899</td>\n",
       "      <td>0.895</td>\n",
       "      <td>0.131</td>\n",
       "      <td>0.087</td>\n",
       "      <td>0.661</td>\n",
       "    </tr>\n",
       "    <tr>\n",
       "      <th>6</th>\n",
       "      <td>Pipeline</td>\n",
       "      <td>HorseWin</td>\n",
       "      <td>0.834</td>\n",
       "      <td>0.723</td>\n",
       "      <td>0.110</td>\n",
       "      <td>0.606</td>\n",
       "      <td>0.129</td>\n",
       "    </tr>\n",
       "    <tr>\n",
       "      <th>1</th>\n",
       "      <td>LogisticRegression</td>\n",
       "      <td>HorseRankTop3</td>\n",
       "      <td>0.773</td>\n",
       "      <td>0.749</td>\n",
       "      <td>0.337</td>\n",
       "      <td>0.263</td>\n",
       "      <td>0.611</td>\n",
       "    </tr>\n",
       "    <tr>\n",
       "      <th>3</th>\n",
       "      <td>GaussianNB</td>\n",
       "      <td>HorseRankTop3</td>\n",
       "      <td>0.770</td>\n",
       "      <td>0.755</td>\n",
       "      <td>0.348</td>\n",
       "      <td>0.390</td>\n",
       "      <td>0.518</td>\n",
       "    </tr>\n",
       "    <tr>\n",
       "      <th>5</th>\n",
       "      <td>RandomForestClassifier</td>\n",
       "      <td>HorseRankTop3</td>\n",
       "      <td>0.769</td>\n",
       "      <td>0.750</td>\n",
       "      <td>0.337</td>\n",
       "      <td>0.267</td>\n",
       "      <td>0.605</td>\n",
       "    </tr>\n",
       "    <tr>\n",
       "      <th>7</th>\n",
       "      <td>Pipeline</td>\n",
       "      <td>HorseRankTop3</td>\n",
       "      <td>0.743</td>\n",
       "      <td>0.650</td>\n",
       "      <td>0.331</td>\n",
       "      <td>0.753</td>\n",
       "      <td>0.361</td>\n",
       "    </tr>\n",
       "  </tbody>\n",
       "</table>\n",
       "</div>"
      ],
      "text/plain": [
       "                    Model     Prediction  CV-F1  F1 Score    AUC  Recall  \\\n",
       "0      LogisticRegression       HorseWin  0.891     0.891  0.113   0.057   \n",
       "2              GaussianNB       HorseWin  0.892     0.889  0.121   0.184   \n",
       "4  RandomForestClassifier       HorseWin  0.899     0.895  0.131   0.087   \n",
       "6                Pipeline       HorseWin  0.834     0.723  0.110   0.606   \n",
       "1      LogisticRegression  HorseRankTop3  0.773     0.749  0.337   0.263   \n",
       "3              GaussianNB  HorseRankTop3  0.770     0.755  0.348   0.390   \n",
       "5  RandomForestClassifier  HorseRankTop3  0.769     0.750  0.337   0.267   \n",
       "7                Pipeline  HorseRankTop3  0.743     0.650  0.331   0.753   \n",
       "\n",
       "   Precision  \n",
       "0      0.667  \n",
       "2      0.304  \n",
       "4      0.661  \n",
       "6      0.129  \n",
       "1      0.611  \n",
       "3      0.518  \n",
       "5      0.605  \n",
       "7      0.361  "
      ]
     },
     "execution_count": 29,
     "metadata": {},
     "output_type": "execute_result"
    }
   ],
   "source": [
    "# View the results\n",
    "df_results.sort_values(by='Prediction', ascending=False)"
   ]
  },
  {
   "cell_type": "markdown",
   "metadata": {},
   "source": [
    "We will choose the Random Forest Classifer as our deployed model as it has good generalisation between the train and test F1 scores, and the highest PR AUC."
   ]
  },
  {
   "cell_type": "code",
   "execution_count": 30,
   "metadata": {},
   "outputs": [],
   "source": [
    "# Save our models to csv\n",
    "lr_pred.to_csv('./predictions/lr_pred.csv', index=False)\n",
    "gnb_pred.to_csv('./predictions/gnb_pred.csv', index=False)\n",
    "rfc_pred.to_csv('./predictions/rfc_pred.csv', index=False)\n",
    "smote_rfc_pred.to_csv('./predictions/smote_rfc_pred.csv', index=False)"
   ]
  },
  {
   "cell_type": "code",
   "execution_count": 31,
   "metadata": {},
   "outputs": [
    {
     "data": {
      "text/plain": [
       "['./model/smote_rfc_model.pkl']"
      ]
     },
     "execution_count": 31,
     "metadata": {},
     "output_type": "execute_result"
    }
   ],
   "source": [
    "# Save our Pipeline model to a file\n",
    "joblib.dump(smote_rfc, './model/smote_rfc_model.pkl')"
   ]
  },
  {
   "cell_type": "code",
   "execution_count": 32,
   "metadata": {},
   "outputs": [],
   "source": [
    "# Save results to csv\n",
    "df_results.to_csv('./results/class_results.csv', index=False)\n"
   ]
  },
  {
   "cell_type": "code",
   "execution_count": null,
   "metadata": {},
   "outputs": [],
   "source": []
  }
 ],
 "metadata": {
  "kernelspec": {
   "display_name": "Python 3 (ipykernel)",
   "language": "python",
   "name": "python3"
  },
  "language_info": {
   "codemirror_mode": {
    "name": "ipython",
    "version": 3
   },
   "file_extension": ".py",
   "mimetype": "text/x-python",
   "name": "python",
   "nbconvert_exporter": "python",
   "pygments_lexer": "ipython3",
   "version": "3.9.7"
  },
  "vscode": {
   "interpreter": {
    "hash": "fc902f5f9f1b4ac8244fa2d1a71d10e1bb8b95bd909217946ac119cb82bcf206"
   }
  }
 },
 "nbformat": 4,
 "nbformat_minor": 2
}
